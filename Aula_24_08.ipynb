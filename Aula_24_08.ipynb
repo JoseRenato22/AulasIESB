{
  "nbformat": 4,
  "nbformat_minor": 0,
  "metadata": {
    "colab": {
      "name": "Aula 24-08.ipynb",
      "provenance": [],
      "authorship_tag": "ABX9TyOX7k3+nKxL1QWe9IN9N8Lb",
      "include_colab_link": true
    },
    "kernelspec": {
      "name": "python3",
      "display_name": "Python 3"
    }
  },
  "cells": [
    {
      "cell_type": "markdown",
      "metadata": {
        "id": "view-in-github",
        "colab_type": "text"
      },
      "source": [
        "<a href=\"https://colab.research.google.com/github/JoseRenato22/AulasIESB/blob/master/Aula_24_08.ipynb\" target=\"_parent\"><img src=\"https://colab.research.google.com/assets/colab-badge.svg\" alt=\"Open In Colab\"/></a>"
      ]
    },
    {
      "cell_type": "code",
      "metadata": {
        "id": "0BxTTXaB-tq4",
        "colab_type": "code",
        "colab": {
          "base_uri": "https://localhost:8080/",
          "height": 51
        },
        "outputId": "8cac76a4-65c6-45d6-8d64-e7db8899d63c"
      },
      "source": [
        "'''x='Texto 1'\n",
        "print(x)\n",
        "tamanho=len(x)\n",
        "print(tamanho)\n",
        "print(x[:-1])\n",
        "y=x[:-1]+ 'AbC'\n",
        "print (y)'''\n",
        "\n",
        "\n",
        "'''x='Mateira Probabilidade e Estatística com Python'\n",
        "y=x.split( )\n",
        "print(y)\n",
        "z=x.split('a')\n",
        "print (z)'''\n",
        "\n",
        "v1 ='Os carros são: {}, {} e {}'\n",
        "carros1= 'polo'\n",
        "carros2= 'compass'\n",
        "carros3 = 'palio'\n",
        "print(v1.format(carros1, carros2, carros3))\n",
        "#print (v1)\n",
        "v2 ='os carros são: {2}, {1} e {0}'\n",
        "print(v2.format(carros1,carros2,carros3))\n"
      ],
      "execution_count": 45,
      "outputs": [
        {
          "output_type": "stream",
          "text": [
            "Os carros são: polo, compass e palio\n",
            "os carros são: palio, compass e polo\n"
          ],
          "name": "stdout"
        }
      ]
    },
    {
      "cell_type": "code",
      "metadata": {
        "id": "pIVqQLFr-0cS",
        "colab_type": "code",
        "colab": {}
      },
      "source": [
        "\n"
      ],
      "execution_count": null,
      "outputs": []
    }
  ]
}